{
 "cells": [
  {
   "cell_type": "code",
   "execution_count": 1,
   "metadata": {},
   "outputs": [
    {
     "name": "stdout",
     "output_type": "stream",
     "text": [
      "Success: The file has been zipped.\n"
     ]
    }
   ],
   "source": [
    "import zipfile\n",
    "\n",
    "csv_file_name = 'NFL.csv'  # The name of the CSV file you want to zip\n",
    "zip_file_name = 'NFL.zip'  # The name of the output ZIP file\n",
    "\n",
    "try:\n",
    "    # Create a ZIP file in write mode\n",
    "    with zipfile.ZipFile(zip_file_name, 'w', zipfile.ZIP_DEFLATED) as zipf:\n",
    "        # Add the CSV file to the ZIP file\n",
    "        zipf.write(csv_file_name, arcname=csv_file_name)\n",
    "    print(\"Success: The file has been zipped.\")\n",
    "except Exception as e:\n",
    "    print(f\"Error: {e}\")\n"
   ]
  }
 ],
 "metadata": {
  "kernelspec": {
   "display_name": "base",
   "language": "python",
   "name": "python3"
  },
  "language_info": {
   "codemirror_mode": {
    "name": "ipython",
    "version": 3
   },
   "file_extension": ".py",
   "mimetype": "text/x-python",
   "name": "python",
   "nbconvert_exporter": "python",
   "pygments_lexer": "ipython3",
   "version": "3.12.2"
  }
 },
 "nbformat": 4,
 "nbformat_minor": 2
}
